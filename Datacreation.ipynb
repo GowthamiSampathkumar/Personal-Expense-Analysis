{
 "cells": [
  {
   "cell_type": "code",
   "execution_count": 1,
   "metadata": {},
   "outputs": [],
   "source": [
    "from faker import Faker\n",
    "import random"
   ]
  },
  {
   "cell_type": "code",
   "execution_count": 2,
   "metadata": {},
   "outputs": [],
   "source": [
    "fake=Faker()"
   ]
  },
  {
   "cell_type": "code",
   "execution_count": 3,
   "metadata": {},
   "outputs": [
    {
     "name": "stdout",
     "output_type": "stream",
     "text": [
      "name: Mariah Cantu\n"
     ]
    }
   ],
   "source": [
    "print(\"name:\",fake.name())"
   ]
  },
  {
   "cell_type": "code",
   "execution_count": 4,
   "metadata": {},
   "outputs": [],
   "source": [
    "Category={\"Rent\":[\"Residential Rent\",\"Commercial Rent\",\"Parking Rent\"],\n",
    "          \"Groceries\":[\"Fruits\",\"Vegeatbles\",\"Dairy\",\"Bakery\"],\n",
    "          \"Fuel\":[\"Petrol\",\"Diesel\",\"CNG\"],\n",
    "          \"Insurance\":[\"LIC\",\"Health Insurance\",\"Vehicle Insurance\"],\n",
    "          \"Fees\":[\"School Fees\",\"College Fees\"],\n",
    "          \"Bills\":[\"Electricity Bill\",\"Water Bill\",\"Telephone bill\"]\n",
    "          }\n",
    "Payment_modes=[\"Cash\",\"Gpay\",\"Net Banking\",\"Debit Card\",\"Credit card\"]\n",
    "Rent=[\"Residential Rent\",\"Commercial Rent\",\"Parking Rent\"]\n",
    "Cashback=[0,5,10,12,15,50,100,1000]"
   ]
  },
  {
   "cell_type": "code",
   "execution_count": 14,
   "metadata": {},
   "outputs": [],
   "source": [
    "# Category=[\"Rent\",\"Groceries\",\"Fuel\",\"Insurance\",\"Fees\",\"Bills\"]\n",
    "# Payment_modes=[\"Cash\",\"Gpay\",\"Net Banking\",\"Debit Card\",\"Credit card\"]\n",
    "# Rent=[\"Residential Rent\",\"Commercial Rent\",\"Parking Rent\"]\n",
    "# Groceries=[\"Fruits\",\"Vegeatbles\",\"Dairy\",\"Bakery\"]\n",
    "# Fuel=[\"Petrol\",\"Diesel\",\"CNG\"]\n",
    "# Insurance=[\"LIC\",\"Health Insurance\",\"Vehicle Insurance\"]\n",
    "# Fees=[\"School Fees\",\"College Fees\"]\n",
    "# Bills=[\"Electricity Bill\",\"Water Bill\",\"Telephone bill\"]\n",
    "# Cashback=[0,5,10,12,15,50,100,1000]"
   ]
  },
  {
   "cell_type": "code",
   "execution_count": 5,
   "metadata": {},
   "outputs": [],
   "source": [
    "import pandas as pd"
   ]
  },
  {
   "cell_type": "code",
   "execution_count": 6,
   "metadata": {},
   "outputs": [],
   "source": [
    "from datetime import datetime"
   ]
  },
  {
   "cell_type": "code",
   "execution_count": 7,
   "metadata": {},
   "outputs": [],
   "source": [
    "start_date = datetime(2024, 1, 1)\n",
    "end_date = datetime(2024, 1,31 )\n",
    "\n",
    "def gen_expense_data(num_of_records):\n",
    "    data=[]\n",
    "    for i in range(num_of_records):\n",
    "        random_key = random.choice(list(Category.keys()))\n",
    "        random_value = Category[random_key]\n",
    "        expense = {\n",
    "            \"Date\":fake.date_between(start_date, end_date),\n",
    "            \"Category\":random_key,\n",
    "            \"Payment_modes\":random.choice(Payment_modes),\n",
    "            \"Description\":random.choice(random_value),\n",
    "            \"Amount\":round(random.uniform(10,5000)),\n",
    "            \"Cashback\":random.choice(Cashback)\n",
    "        }\n",
    "        data.append(expense)\n",
    "    return pd.DataFrame(data)\n",
    "records=gen_expense_data(200)\n",
    "records.to_csv('C:/Users/Guvi/PersonalExpense/ExpenseData/January.csv',index=False)"
   ]
  },
  {
   "cell_type": "code",
   "execution_count": 8,
   "metadata": {},
   "outputs": [
    {
     "data": {
      "text/html": [
       "<div>\n",
       "<style scoped>\n",
       "    .dataframe tbody tr th:only-of-type {\n",
       "        vertical-align: middle;\n",
       "    }\n",
       "\n",
       "    .dataframe tbody tr th {\n",
       "        vertical-align: top;\n",
       "    }\n",
       "\n",
       "    .dataframe thead th {\n",
       "        text-align: right;\n",
       "    }\n",
       "</style>\n",
       "<table border=\"1\" class=\"dataframe\">\n",
       "  <thead>\n",
       "    <tr style=\"text-align: right;\">\n",
       "      <th></th>\n",
       "      <th>Date</th>\n",
       "      <th>Category</th>\n",
       "      <th>Payment_modes</th>\n",
       "      <th>Description</th>\n",
       "      <th>Amount</th>\n",
       "      <th>Cashback</th>\n",
       "    </tr>\n",
       "  </thead>\n",
       "  <tbody>\n",
       "    <tr>\n",
       "      <th>0</th>\n",
       "      <td>2024-01-08</td>\n",
       "      <td>Groceries</td>\n",
       "      <td>Cash</td>\n",
       "      <td>Dairy</td>\n",
       "      <td>2157</td>\n",
       "      <td>10</td>\n",
       "    </tr>\n",
       "    <tr>\n",
       "      <th>1</th>\n",
       "      <td>2024-01-07</td>\n",
       "      <td>Groceries</td>\n",
       "      <td>Debit Card</td>\n",
       "      <td>Vegeatbles</td>\n",
       "      <td>106</td>\n",
       "      <td>15</td>\n",
       "    </tr>\n",
       "    <tr>\n",
       "      <th>2</th>\n",
       "      <td>2024-01-23</td>\n",
       "      <td>Bills</td>\n",
       "      <td>Credit card</td>\n",
       "      <td>Water Bill</td>\n",
       "      <td>506</td>\n",
       "      <td>0</td>\n",
       "    </tr>\n",
       "    <tr>\n",
       "      <th>3</th>\n",
       "      <td>2024-01-26</td>\n",
       "      <td>Fees</td>\n",
       "      <td>Cash</td>\n",
       "      <td>College Fees</td>\n",
       "      <td>741</td>\n",
       "      <td>12</td>\n",
       "    </tr>\n",
       "    <tr>\n",
       "      <th>4</th>\n",
       "      <td>2024-01-22</td>\n",
       "      <td>Bills</td>\n",
       "      <td>Gpay</td>\n",
       "      <td>Electricity Bill</td>\n",
       "      <td>601</td>\n",
       "      <td>50</td>\n",
       "    </tr>\n",
       "    <tr>\n",
       "      <th>...</th>\n",
       "      <td>...</td>\n",
       "      <td>...</td>\n",
       "      <td>...</td>\n",
       "      <td>...</td>\n",
       "      <td>...</td>\n",
       "      <td>...</td>\n",
       "    </tr>\n",
       "    <tr>\n",
       "      <th>195</th>\n",
       "      <td>2024-01-04</td>\n",
       "      <td>Fees</td>\n",
       "      <td>Debit Card</td>\n",
       "      <td>College Fees</td>\n",
       "      <td>1719</td>\n",
       "      <td>50</td>\n",
       "    </tr>\n",
       "    <tr>\n",
       "      <th>196</th>\n",
       "      <td>2024-01-28</td>\n",
       "      <td>Rent</td>\n",
       "      <td>Net Banking</td>\n",
       "      <td>Parking Rent</td>\n",
       "      <td>53</td>\n",
       "      <td>12</td>\n",
       "    </tr>\n",
       "    <tr>\n",
       "      <th>197</th>\n",
       "      <td>2024-01-16</td>\n",
       "      <td>Fees</td>\n",
       "      <td>Gpay</td>\n",
       "      <td>College Fees</td>\n",
       "      <td>4996</td>\n",
       "      <td>10</td>\n",
       "    </tr>\n",
       "    <tr>\n",
       "      <th>198</th>\n",
       "      <td>2024-01-09</td>\n",
       "      <td>Fees</td>\n",
       "      <td>Debit Card</td>\n",
       "      <td>School Fees</td>\n",
       "      <td>4913</td>\n",
       "      <td>15</td>\n",
       "    </tr>\n",
       "    <tr>\n",
       "      <th>199</th>\n",
       "      <td>2024-01-30</td>\n",
       "      <td>Fuel</td>\n",
       "      <td>Cash</td>\n",
       "      <td>Diesel</td>\n",
       "      <td>3303</td>\n",
       "      <td>1000</td>\n",
       "    </tr>\n",
       "  </tbody>\n",
       "</table>\n",
       "<p>200 rows × 6 columns</p>\n",
       "</div>"
      ],
      "text/plain": [
       "           Date   Category Payment_modes       Description  Amount  Cashback\n",
       "0    2024-01-08  Groceries          Cash             Dairy    2157        10\n",
       "1    2024-01-07  Groceries    Debit Card        Vegeatbles     106        15\n",
       "2    2024-01-23      Bills   Credit card        Water Bill     506         0\n",
       "3    2024-01-26       Fees          Cash      College Fees     741        12\n",
       "4    2024-01-22      Bills          Gpay  Electricity Bill     601        50\n",
       "..          ...        ...           ...               ...     ...       ...\n",
       "195  2024-01-04       Fees    Debit Card      College Fees    1719        50\n",
       "196  2024-01-28       Rent   Net Banking      Parking Rent      53        12\n",
       "197  2024-01-16       Fees          Gpay      College Fees    4996        10\n",
       "198  2024-01-09       Fees    Debit Card       School Fees    4913        15\n",
       "199  2024-01-30       Fuel          Cash            Diesel    3303      1000\n",
       "\n",
       "[200 rows x 6 columns]"
      ]
     },
     "execution_count": 8,
     "metadata": {},
     "output_type": "execute_result"
    }
   ],
   "source": [
    "\n",
    "records"
   ]
  },
  {
   "cell_type": "code",
   "execution_count": 9,
   "metadata": {},
   "outputs": [
    {
     "name": "stdout",
     "output_type": "stream",
     "text": [
      "Requirement already satisfied: pymysql in c:\\users\\guvi\\personalexpense\\lib\\site-packages (1.1.1)\n",
      "Note: you may need to restart the kernel to use updated packages.\n"
     ]
    }
   ],
   "source": [
    "pip install pymysql"
   ]
  },
  {
   "cell_type": "code",
   "execution_count": 10,
   "metadata": {},
   "outputs": [],
   "source": [
    "import pymysql \n",
    "conn=pymysql.connect(host=\"localhost\",user=\"root\",password='123456789')"
   ]
  },
  {
   "cell_type": "code",
   "execution_count": 11,
   "metadata": {},
   "outputs": [
    {
     "data": {
      "text/plain": [
       "<pymysql.connections.Connection at 0x2b95d0317c0>"
      ]
     },
     "execution_count": 11,
     "metadata": {},
     "output_type": "execute_result"
    }
   ],
   "source": [
    "conn"
   ]
  },
  {
   "cell_type": "code",
   "execution_count": 12,
   "metadata": {},
   "outputs": [],
   "source": [
    "\n",
    "import glob\n",
    "\n",
    "# Path to CSV files\n",
    "csv_files = glob.glob('C:/Users/Guvi/PersonalExpense/ExpenseData/*.csv')\n",
    "\n",
    "# Read and concatenate all CSV files\n",
    "merged_df = pd.concat([pd.read_csv(f) for f in csv_files], ignore_index=True)\n",
    "\n",
    "# Save the merged dataframe to a new CSV file\n",
    "merged_df.to_csv('C:/Users/Guvi/PersonalExpense/ExpenseData/MergedCSV.csv', index=False)"
   ]
  },
  {
   "cell_type": "code",
   "execution_count": 73,
   "metadata": {},
   "outputs": [
    {
     "data": {
      "text/plain": [
       "<pymysql.connections.Connection at 0x2bd0f57dcd0>"
      ]
     },
     "execution_count": 73,
     "metadata": {},
     "output_type": "execute_result"
    }
   ],
   "source": [
    "conn"
   ]
  },
  {
   "cell_type": "code",
   "execution_count": 13,
   "metadata": {},
   "outputs": [],
   "source": [
    "create_database_query = \"CREATE DATABASE IF NOT EXISTS PersonalExpense\"\n",
    "\n",
    "with conn.cursor() as cursor:\n",
    "    cursor.execute(create_database_query)"
   ]
  },
  {
   "cell_type": "code",
   "execution_count": 14,
   "metadata": {},
   "outputs": [],
   "source": [
    "use_database_query = \"USE PersonalExpense\"\n",
    "\n",
    "with conn.cursor() as cursor:\n",
    "    cursor.execute(use_database_query)"
   ]
  },
  {
   "cell_type": "code",
   "execution_count": 16,
   "metadata": {},
   "outputs": [],
   "source": [
    "use_table_query=\"CREATE TABLE allexpense ( Date DATE NOT NULL,Category VARCHAR(255) NOT NULL, Payment_modes VARCHAR(100) ,Description TEXT, Amount DECIMAL(10, 2) NOT NULL,cashback VARCHAR(10) NOT NULL)\"\n",
    "\n",
    "with conn.cursor() as cursor:\n",
    "    cursor.execute(use_table_query)"
   ]
  },
  {
   "cell_type": "code",
   "execution_count": 17,
   "metadata": {},
   "outputs": [],
   "source": [
    "\n",
    "\n",
    "cursor = conn.cursor()\n",
    "\n",
    "# Load CSV data into pandas DataFrame\n",
    "df = pd.read_csv('C:/Users/Guvi/PersonalExpense/ExpenseData/MergedCSV.csv')\n",
    "\n",
    "# Iterate over each row and insert into MySQL table\n",
    "for i, row in df.iterrows():\n",
    "    cursor.execute(\"\"\"\n",
    "        INSERT INTO AllExpense (Date, Category, Payment_modes, Description, Amount, Cashback)\n",
    "        VALUES (%s, %s, %s, %s, %s, %s)\n",
    "    \"\"\", tuple(row))\n",
    "\n",
    "# Commit the transaction and close the connection\n",
    "conn.commit()\n",
    "cursor.close()\n",
    "conn.close()"
   ]
  }
 ],
 "metadata": {
  "kernelspec": {
   "display_name": "PersonalExpense",
   "language": "python",
   "name": "python3"
  },
  "language_info": {
   "codemirror_mode": {
    "name": "ipython",
    "version": 3
   },
   "file_extension": ".py",
   "mimetype": "text/x-python",
   "name": "python",
   "nbconvert_exporter": "python",
   "pygments_lexer": "ipython3",
   "version": "3.9.4"
  }
 },
 "nbformat": 4,
 "nbformat_minor": 2
}
